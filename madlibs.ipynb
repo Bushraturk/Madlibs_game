{
  "nbformat": 4,
  "nbformat_minor": 0,
  "metadata": {
    "colab": {
      "provenance": [],
      "authorship_tag": "ABX9TyOEjPgsTMO4peQD55TPohe0",
      "include_colab_link": true
    },
    "kernelspec": {
      "name": "python3",
      "display_name": "Python 3"
    },
    "language_info": {
      "name": "python"
    }
  },
  "cells": [
    {
      "cell_type": "markdown",
      "metadata": {
        "id": "view-in-github",
        "colab_type": "text"
      },
      "source": [
        "<a href=\"https://colab.research.google.com/github/Bushraturk/Madlibs_game/blob/main/madlibs.ipynb\" target=\"_parent\"><img src=\"https://colab.research.google.com/assets/colab-badge.svg\" alt=\"Open In Colab\"/></a>"
      ]
    },
    {
      "cell_type": "markdown",
      "source": [
        "# Mad libs Game in Python"
      ],
      "metadata": {
        "id": "PyLtVEa13klL"
      }
    },
    {
      "cell_type": "code",
      "source": [
        "# user input\n",
        "name = input(\"Enter the girl's name: \")\n",
        "age = input(\"Enter her age: \")\n",
        "mentor = input(\"Enter the mentor's name: \")\n",
        "\n",
        "# story created\n",
        "\n",
        "print(\"\\n\")\n",
        "print(f\"Once upon a time, there was a girl named {name}. She was {age} years old and did not know much about IT.\")\n",
        "print(f\"One day, she heard about the GIAIC IT entry test. She was not sure if she could pass, but she still applied.\")\n",
        "print(f\"When the result came, she was surprised – she had passed! It was a big moment for her.\")\n",
        "print(f\"Before starting her classes, {name} decided to learn HTML, CSS, and JavaScript on her own.\")\n",
        "print(f\"She worked hard, watched online tutorials, and practiced daily.\")\n",
        "\n",
        "print(f\"Then, when the GIAIC classes started, she began her learning journey.\")\n",
        "print(f\"In Q1, she learned TypeScript, understanding how to write better and safer JavaScript code.\")\n",
        "print(f\"In Q2, she mastered Next.js, building powerful web applications.\")\n",
        "print(f\"Now, in Q3, she is learning Python and exploring Agentic AI, getting ready for the future of artificial intelligence.\")\n",
        "\n",
        "print(f\"This journey taught her an important lesson: 'A turning point can come at any time. \"\n",
        "      f\"If you get a good opportunity, make the most of it!'\")\n",
        "print(f\"{name} was very thankful to her mentor, {mentor}, and the GIAIC team for guiding her.\")\n",
        "print(f\"Her hard work changed her life, and she was now on the path to success!\")\n",
        "\n",
        "print(\"\\nMoral of the story: Never be afraid to try something new. Your life can change anytime!\")\n"
      ],
      "metadata": {
        "colab": {
          "base_uri": "https://localhost:8080/"
        },
        "id": "mcoEYZDSdIZs",
        "outputId": "6eb1d87a-69b9-4c07-a4b6-493d14afe4c7"
      },
      "execution_count": null,
      "outputs": [
        {
          "output_type": "stream",
          "name": "stdout",
          "text": [
            "Enter the girl's name: Bushra\n",
            "Enter her age: 20\n",
            "Enter the mentor's name: Hamzah syed\n",
            "\n",
            "\n",
            "Once upon a time, there was a girl named Bushra. She was 20 years old and did not know much about IT.\n",
            "One day, she heard about the GIAIC IT entry test. She was not sure if she could pass, but she still applied.\n",
            "When the result came, she was surprised – she had passed! It was a big moment for her.\n",
            "Before starting her classes, Bushra decided to learn HTML, CSS, and JavaScript on her own.\n",
            "She worked hard, watched online tutorials, and practiced daily.\n",
            "Then, when the GIAIC classes started, she began her learning journey.\n",
            "In Q1, she learned TypeScript, understanding how to write better and safer JavaScript code.\n",
            "In Q2, she mastered Next.js, building powerful web applications.\n",
            "Now, in Q3, she is learning Python and exploring Agentic AI, getting ready for the future of artificial intelligence.\n",
            "This journey taught her an important lesson: 'A turning point can come at any time. If you get a good opportunity, make the most of it!'\n",
            "Bushra was very thankful to her mentor, Hamzah syed, and the GIAIC team for guiding her.\n",
            "Her hard work changed her life, and she was now on the path to success!\n",
            "\n",
            "Moral of the story: Never be afraid to try something new. Your life can change anytime!\n"
          ]
        }
      ]
    }
  ]
}